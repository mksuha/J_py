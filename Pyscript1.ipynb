{
 "cells": [
  {
   "cell_type": "code",
   "execution_count": 5,
   "id": "fitted-plain",
   "metadata": {},
   "outputs": [
    {
     "name": "stdout",
     "output_type": "stream",
     "text": [
      "Reading -f\n",
      "0.4690622827518586\n",
      "2.248142773667\n"
     ]
    },
    {
     "data": {
      "image/png": "[encoded data removed]",
      "text/plain": [
       "<Figure size 432x288 with 1 Axes>"
      ]
     },
     "metadata": {
      "needs_background": "light"
     },
     "output_type": "display_data"
    }
   ],
   "source": [
    "#!/usr/bin/env python\n",
    "#coding: utf-8\n",
    "\n",
    "import pandas as pd\n",
    "import numpy as np\n",
    "import matplotlib.pyplot as plt\n",
    "from sklearn.linear_model import LinearRegression\n",
    "import sys\n",
    "import os.path as path\n",
    "\n",
    "arg = sys.argv[1]\n",
    "print(\"Reading {}\".format(arg))\n",
    "df = pd.read_csv ('regrex1.csv')\n",
    "\n",
    "x = df.x\n",
    "y = df.y\n",
    "\n",
    "plt.scatter(x,y)\n",
    "plt.title('regrex1')\n",
    "plt.xlabel('x')\n",
    "plt.ylabel('y')\n",
    "plt.savefig(\"Pyscript_scatter.png\")\n",
    "\n",
    "x = df.x.to_numpy()\n",
    "y = df.y.to_numpy()\n",
    "m, b = np.polyfit(x, y, 1)\n",
    "print(m)\n",
    "print(b)\n",
    "plt.plot(x, y, 'o')\n",
    "plt.plot(x, m*x + b)\n",
    "\n",
    "              # Saving output of the plot to a png file\n",
    "plt.savefig(\"Pyscript_fit.png\")"
   ]
  },
  {
   "cell_type": "code",
   "execution_count": null,
   "id": "virgin-cedar",
   "metadata": {},
   "outputs": [],
   "source": []
  }
 ],
 "metadata": {
  "kernelspec": {
   "display_name": "Python 3",
   "language": "python",
   "name": "python3"
  },
  "language_info": {
   "codemirror_mode": {
    "name": "ipython",
    "version": 3
   },
   "file_extension": ".py",
   "mimetype": "text/x-python",
   "name": "python",
   "nbconvert_exporter": "python",
   "pygments_lexer": "ipython3",
   "version": "3.8.8"
  }
 },
 "nbformat": 4,
 "nbformat_minor": 5
}
